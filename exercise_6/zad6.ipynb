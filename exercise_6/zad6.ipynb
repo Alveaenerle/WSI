{
 "cells": [
  {
   "cell_type": "markdown",
   "metadata": {
    "collapsed": false
   },
   "source": [
    "# Zadanie 6\n",
    "\n",
    "Celem ćwiczenia jest implementacja algorytmu Q-learning.\n",
    "\n",
    "Następnie należy stworzyć agenta rozwiązującego problem [Taxi](https://gymnasium.farama.org/environments/toy_text/taxi/). Problem dostępny jest w pakiecie **gym**.\n",
    "\n",
    "Punktacja (max 7 pkt):\n",
    "- Implementacja algorytmu Q-learning. [3 pkt]\n",
    "- Eksperymenty dla różnych wartości hiperparametrów [2 pkt]\n",
    "- Jakość kodu [1 pkt]\n",
    "- Wnioski [1 pkt]\n",
    "\n",
    "Polecane źródła - teoria + intuicja:\n",
    "- https://distill.pub/2019/paths-perspective-on-value-learning/\n",
    "- https://www.youtube.com/watch?v=0iqz4tcKN58&ab_channel=SteveBrunton"
   ]
  },
  {
   "cell_type": "code",
   "execution_count": 9,
   "metadata": {
    "collapsed": false
   },
   "outputs": [
    {
     "name": "stdout",
     "output_type": "stream",
     "text": [
      "gymnasium is not installed. Installing now...\n"
     ]
    },
    {
     "ename": "NameError",
     "evalue": "name 'subprocess' is not defined",
     "output_type": "error",
     "traceback": [
      "\u001b[0;31m---------------------------------------------------------------------------\u001b[0m",
      "\u001b[0;31mModuleNotFoundError\u001b[0m                       Traceback (most recent call last)",
      "Cell \u001b[0;32mIn[9], line 3\u001b[0m\n\u001b[1;32m      2\u001b[0m \u001b[38;5;28;01mtry\u001b[39;00m:\n\u001b[0;32m----> 3\u001b[0m     \u001b[38;5;28;01mimport\u001b[39;00m \u001b[38;5;21;01mgymnasium\u001b[39;00m \u001b[38;5;28;01mas\u001b[39;00m \u001b[38;5;21;01mgym\u001b[39;00m\n\u001b[1;32m      4\u001b[0m \u001b[38;5;28;01mexcept\u001b[39;00m \u001b[38;5;167;01mImportError\u001b[39;00m:\n",
      "\u001b[0;31mModuleNotFoundError\u001b[0m: No module named 'gymnasium'",
      "\nDuring handling of the above exception, another exception occurred:\n",
      "\u001b[0;31mNameError\u001b[0m                                 Traceback (most recent call last)",
      "Cell \u001b[0;32mIn[9], line 6\u001b[0m\n\u001b[1;32m      4\u001b[0m \u001b[38;5;28;01mexcept\u001b[39;00m \u001b[38;5;167;01mImportError\u001b[39;00m:\n\u001b[1;32m      5\u001b[0m     \u001b[38;5;28mprint\u001b[39m(\u001b[38;5;124m\"\u001b[39m\u001b[38;5;124mgymnasium is not installed. Installing now...\u001b[39m\u001b[38;5;124m\"\u001b[39m)\n\u001b[0;32m----> 6\u001b[0m     \u001b[43msubprocess\u001b[49m\u001b[38;5;241m.\u001b[39mcheck_call([sys\u001b[38;5;241m.\u001b[39mexecutable, \u001b[38;5;124m\"\u001b[39m\u001b[38;5;124m-m\u001b[39m\u001b[38;5;124m\"\u001b[39m, \u001b[38;5;124m\"\u001b[39m\u001b[38;5;124mpip\u001b[39m\u001b[38;5;124m\"\u001b[39m, \u001b[38;5;124m\"\u001b[39m\u001b[38;5;124minstall\u001b[39m\u001b[38;5;124m\"\u001b[39m, \u001b[38;5;124m\"\u001b[39m\u001b[38;5;124mgymnasium\u001b[39m\u001b[38;5;124m\"\u001b[39m])\n\u001b[1;32m      7\u001b[0m     \u001b[38;5;66;03m# Try the import again after installation\u001b[39;00m\n\u001b[1;32m      8\u001b[0m     \u001b[38;5;28;01mtry\u001b[39;00m:\n",
      "\u001b[0;31mNameError\u001b[0m: name 'subprocess' is not defined"
     ]
    }
   ],
   "source": [
    "import numpy as np\n"
   ]
  },
  {
   "cell_type": "code",
   "execution_count": 2,
   "metadata": {
    "collapsed": false
   },
   "outputs": [],
   "source": [
    "class QLearningSolver:\n",
    "    \"\"\"Class containing the Q-learning algorithm that might be used for different discrete environments.\"\"\"\n",
    "\n",
    "    def __init__(\n",
    "        self,\n",
    "        observation_space: int,\n",
    "        action_space: int,\n",
    "        learning_rate: float = 0.1,\n",
    "        gamma: float = 0.9,\n",
    "        epsilon: float = 0.1,\n",
    "    ):\n",
    "        self.observation_space = observation_space\n",
    "        self.action_space = action_space\n",
    "        self.learning_rate = learning_rate\n",
    "        self.gamma = gamma\n",
    "        self.epsilon = epsilon\n",
    "        \n",
    "        # Initialize the Q-table with zeros\n",
    "        self.q_table = np.zeros((observation_space, action_space))\n",
    "\n",
    "    def __call__(self, state: int, action: int) -> float:\n",
    "        \"\"\"Return Q-value of given state and action.\"\"\"\n",
    "        return self.q_table[state, action]\n",
    "\n",
    "    def update(self, state: int, action: int, reward: float, next_state: int) -> None:\n",
    "        \"\"\"Update Q-value of given state and action.\"\"\"\n",
    "        # Get the maximum Q-value for the next state\n",
    "        max_next_q = np.max(self.q_table[next_state])\n",
    "\n",
    "        # Update Q-value using the Q-learning update rule\n",
    "        self.q_table[state, action] += self.learning_rate * (\n",
    "            reward + self.gamma * max_next_q - self.q_table[state, action]\n",
    "        )\n",
    "\n",
    "    def get_best_action(self, state: int) -> int:\n",
    "        \"\"\"Return action that maximizes Q-value for a given state.\"\"\"\n",
    "        return np.argmax(self.q_table[state])\n",
    "\n",
    "    def select_action(self, state: int) -> int:\n",
    "        \"\"\"Select an action using epsilon-greedy strategy.\"\"\"\n",
    "        if np.random.random() < self.epsilon:\n",
    "            # Explore: choose a random action\n",
    "            return np.random.randint(self.action_space)\n",
    "        else:\n",
    "            # Exploit: choose the best action\n",
    "            return self.get_best_action(state)\n",
    "\n",
    "    def __repr__(self):\n",
    "        \"\"\"Elegant representation of Q-learning solver.\"\"\"\n",
    "        return (\n",
    "            f\"QLearningSolver(observation_space={self.observation_space}, \"\n",
    "            f\"action_space={self.action_space}, learning_rate={self.learning_rate}, \"\n",
    "            f\"gamma={self.gamma}, epsilon={self.epsilon})\"\n",
    "        )\n",
    "\n",
    "    def __str__(self):\n",
    "        return self.__repr__()\n"
   ]
  },
  {
   "cell_type": "markdown",
   "metadata": {
    "collapsed": false
   },
   "source": [
    "# Eksperymenty"
   ]
  },
  {
   "cell_type": "code",
   "execution_count": 12,
   "metadata": {},
   "outputs": [
    {
     "name": "stdout",
     "output_type": "stream",
     "text": [
      "Training completed. Average reward: -103.92\n"
     ]
    }
   ],
   "source": [
    "# import sys\n",
    "# sys.path.append('/Users/dominiksledziewski/WSI/path/to/venv/lib/python3.13/site-packages')\n",
    "import gymnasium as gym\n",
    "\n",
    "# Initialize the Taxi environment\n",
    "env = gym.make(\"Taxi-v3\")\n",
    "\n",
    "# Create the Q-learning solver\n",
    "solver = QLearningSolver(\n",
    "    observation_space=env.observation_space.n,\n",
    "    action_space=env.action_space.n,\n",
    "    learning_rate=0.1,\n",
    "    gamma=0.9,\n",
    "    epsilon=0.1\n",
    ")\n",
    "\n",
    "# Training parameters\n",
    "episodes = 1000\n",
    "max_steps_per_episode = 100\n",
    "rewards_all_episodes = []\n",
    "\n",
    "# Training loop\n",
    "for episode in range(episodes):\n",
    "    state, _ = env.reset()\n",
    "    total_rewards = 0\n",
    "    \n",
    "    for step in range(max_steps_per_episode):\n",
    "        # Choose action using epsilon-greedy strategy\n",
    "        action = solver.select_action(state)\n",
    "        \n",
    "        # Perform the action in the environment\n",
    "        next_state, reward, done, truncated, _ = env.step(action)\n",
    "        \n",
    "        # Update the Q-table\n",
    "        solver.update(state, action, reward, next_state)\n",
    "        \n",
    "        state = next_state\n",
    "        total_rewards += reward\n",
    "        \n",
    "        if done or truncated:\n",
    "            break\n",
    "    \n",
    "    rewards_all_episodes.append(total_rewards)\n",
    "\n",
    "# Evaluate performance\n",
    "print(f\"Training completed. Average reward: {sum(rewards_all_episodes) / episodes:.2f}\")\n"
   ]
  },
  {
   "cell_type": "markdown",
   "metadata": {
    "collapsed": false
   },
   "source": [
    "# Wnioski"
   ]
  },
  {
   "cell_type": "code",
   "execution_count": null,
   "metadata": {
    "collapsed": false
   },
   "outputs": [],
   "source": []
  }
 ],
 "metadata": {
  "kernelspec": {
   "display_name": "Python 3",
   "language": "python",
   "name": "python3"
  },
  "language_info": {
   "codemirror_mode": {
    "name": "ipython",
    "version": 3
   },
   "file_extension": ".py",
   "mimetype": "text/x-python",
   "name": "python",
   "nbconvert_exporter": "python",
   "pygments_lexer": "ipython3",
   "version": "3.9.6"
  }
 },
 "nbformat": 4,
 "nbformat_minor": 0
}
