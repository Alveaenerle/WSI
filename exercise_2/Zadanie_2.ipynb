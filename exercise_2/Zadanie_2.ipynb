{
  "cells": [
    {
      "cell_type": "markdown",
      "metadata": {
        "id": "cBl0cj0jPID2"
      },
      "source": [
        "#Zadanie 2 (7 pkt)\n",
        "Celem zadania jest rozwiązanie zadania optymalizacji przy pomocy algorytmu genetycznego. Należy znaleźć minimum zadanej funkcji:\n",
        "\\begin{equation}\n",
        "f(x) = 1.5-\\exp \\left\\{-x_1^2-x_2^2\\right\\}-0.5 \\exp \\left\\{-\\left(x_1-1\\right)^2-\\left(x_2+2\\right)^2\\right\\}\n",
        "\\end{equation}\n",
        "Należy wykorzystać mechanizmy krzyżowania punktowego, mutacji oraz selekcji turniejowej. Proszę wykorzystać przygotowany szkielet i zaimplementować niezbędne metody. Opracowane oprogramowanie powinno być uniwersalne - wymiar funkcji, której minimum szukamy może być dowolny (mechanizm *args). Punktacja wygląda następująco:\n",
        "\n",
        "*   Stworzenie obiektu klasy *Chromosome* z polem *array*, które jest wektorem aktywnych i nieaktywnych genów - **0.5 pkt**\n",
        "*   Implementacja metody *decode*, która dekoduje część chromosomu (określoną przez początek (*lower_bound*) i koniec (*upper_bound*)) do postaci liczby rzeczywistej. *aoi* to zakres wartości zdekodowanej liczby rzeczywistej. Przykład: liczba 135 w postaci binarnej zapisana przy użyciu 8 bitów to 1000 0111, jeśli nasze *aoi* to [0, 1], to 135 sprowadzone do tego zakresu to 0.529. Można skorzystać z funkcji pomocniczej *min_max_norm* - **1 pkt**\n",
        "*   Implementacja metody *mutation*, która przyjmuje jako argument prawdopodobieństo mutacji i zmienia wartość jedego, losowego genu na przeciwną - **0.5 pkt**\n",
        "*   Implementacja metody *crossover*, która wykonuje operację krzyżowania jednopunktowego - **1 pkt**\n",
        "*   Implementacja metody *eval_objective_func*, która dekoduje cały chromosom (otrzymuje się argumenty funkcji) oraz zwraca wartość funkcji celu dla tych argumentów - **1 pkt**\n",
        "*   Implementacja metody *tournament_selection*, która przeprowadza selekcję turniejową - **1 pkt**\n",
        "*   Implementacja metody *reproduce*, która generuje nowe pokolenie - z pewnym prawdopodobieństwem przeprowadza krzyżowanie jednopunktowe lub \"przerzuca\" rodziców do nowego pokolenia - **0.5 pkt**\n",
        "*   Implementacja metody *run*, która wykonuje cały alorytm genetyczny dla określonej liczby pokoleń. W każdym pokoleniu należy zapisać dane osobnika z najlepszym chromosomem zdekodowane wartości x i y oraz wartość funkcji strat dla tego osobnika - **0.5 pkt**\n",
        "*   Proszę, podobnie jak miało to miejsce w przypadku metody gradientowej z poprzednich zajęć, wygenerować wykres przy użyciu funkcji *plot_func* (w przypadku innego typu argumentu *trace*, funkcję można zmodyfikować. Wykres powinien przedstawiać funkcję, której minimum poszukujemy oraz punkty odpowiadające najlepszym osobnikom w danych generacjach, których kolor jest coraz jaśniejszy wraz ze zbliżaniem się do minimum. Proszę zapisać swoje wnioski, w szczególności w odniesieniu do metody gradientowej. - **1 pkt**\n"
      ]
    },
    {
      "cell_type": "code",
      "execution_count": 13,
      "metadata": {
        "id": "t7lu9KtdNqVO"
      },
      "outputs": [],
      "source": [
        "import numpy as np\n",
        "import matplotlib.pyplot as plt\n",
        "from random import getrandbits"
      ]
    },
    {
      "cell_type": "code",
      "execution_count": 14,
      "metadata": {
        "id": "At5DP7zTNsO8"
      },
      "outputs": [],
      "source": [
        "def min_max_norm(val, min_val, max_val, new_min, new_max):\n",
        "  return (val - min_val) * (new_max - new_min) / (max_val - min_val) + new_min"
      ]
    },
    {
      "cell_type": "code",
      "execution_count": 15,
      "metadata": {
        "id": "AHfWVTRuNxms"
      },
      "outputs": [],
      "source": [
        "class Chromosome:\n",
        "  def __init__(self, length, array=None): # if array is None it should be initialized with random binary vector\n",
        "    if array is None:\n",
        "      array = np.random.randint(2, size=length)\n",
        "    self.array = np.array(array)\n",
        "    self.length = length\n",
        "\n",
        "  def decode(self, lower_bound, upper_bound, aoi): # [lower_bound, upper_bound]\n",
        "    sum = np.sum([2**i for i in range(upper_bound - lower_bound, -1, -1)] * self.array[lower_bound : upper_bound+1])\n",
        "    max_sum = 2**(upper_bound-lower_bound + 1) - 1\n",
        "    return (sum / max_sum) * aoi\n",
        "\n",
        "\n",
        "  def mutation(self, probability):\n",
        "    self.array = [self.array[i] if np.random.random() > probability else (self.array[i] + 1) % 2 for i in range(self.length)]\n",
        "\n",
        "  def crossover(self, other: \"Chromosome\"):\n",
        "    point = np.random.randint(0, self.length+1) # numbers of genes that will be inherited from the first section\n",
        "    first_child = np.concatenate((self.array[0: point], other.array[point:]))\n",
        "    second_child =  np.concatenate((other.array[0: point], self.array[point:]))\n",
        "    self.array = first_child\n",
        "    other.array = second_child"
      ]
    },
    {
      "cell_type": "code",
      "execution_count": 16,
      "metadata": {},
      "outputs": [],
      "source": [
        "import ipytest\n",
        "ipytest.autoconfig()\n",
        "\n",
        "def test_init():\n",
        "    c = Chromosome(16)\n",
        "    assert len(c.array) == 16\n",
        "    assert c.length == 16\n",
        "\n",
        "def test_decode():\n",
        "    c = Chromosome(8, [1, 0, 1, 1, 0, 1, 1, 1]) # 11, 7\n",
        "    assert c.decode(0, 3, 15) == 11\n",
        "    assert c.decode(4, 7, 15) == 7\n",
        "    assert c.decode(0, 0, 1) == 1\n",
        "\n",
        "def test_mutation():\n",
        "    c = Chromosome(8, [1, 0, 1, 1, 0, 1, 1, 1])\n",
        "    c.mutation(1)\n",
        "    assert c.array[0] == 0\n",
        "    assert c.array[1] == 1\n",
        "\n",
        "def test_crossover():\n",
        "    c1 = Chromosome(4, [1, 0, 1, 1])\n",
        "    c2 = Chromosome(4, [0, 1, 0, 1])\n",
        "    c1.crossover(c2)\n",
        "    assert c1.length == 4\n",
        "    assert c2.length == 4\n",
        "\n"
      ]
    },
    {
      "cell_type": "code",
      "execution_count": 17,
      "metadata": {
        "id": "bAMGkQczOnRS"
      },
      "outputs": [],
      "source": [
        "class GeneticAlgorithm:\n",
        "  def __init__(self, chromosome_length, obj_func_num_args, objective_function, aoi, population_size=1000,\n",
        "               tournament_size=2, mutation_probability=0.05, crossover_probability=0.8, num_steps=30):\n",
        "    assert chromosome_length % obj_func_num_args == 0, \"Number of bits for each argument should be equal\"\n",
        "    self.chromosome_lengths = chromosome_length\n",
        "    self.obj_func_num_args = obj_func_num_args\n",
        "    self.bits_per_arg = int(chromosome_length / obj_func_num_args)\n",
        "    self.objective_function = objective_function\n",
        "    self.aoi = aoi\n",
        "    self.tournament_size = tournament_size\n",
        "    self.mutation_probability = mutation_probability\n",
        "    self.crossover_probability = crossover_probability\n",
        "    self.num_steps = num_steps\n",
        "    self.population_size = population_size\n",
        "    self.population = [Chromosome(chromosome_length) for i in range(population_size)]\n",
        "\n",
        "  def eval_objective_func(self, chromosome: \"Chromosome\"):\n",
        "    n_of_bits = chromosome.length // self.obj_func_num_args\n",
        "    return self.objective_function([chromosome.decode(i * n_of_bits, i * n_of_bits + n_of_bits - 1, self.aoi) for i in range(self.obj_func_num_args)])\n",
        "\n",
        "  def tournament_selection(self):\n",
        "    self.population = [max(np.random.choice(self.population, self.tournament_size, replace=True),key=lambda choice: self.eval_objective_func(choice)) for i in range(self.population_size)]\n",
        "\n",
        "\n",
        "  def reproduce(self, parents):\n",
        "    parents[0].crossover(parents[1])\n",
        "\n",
        "  def plot_func(self, trace):\n",
        "    X = np.arange(-2, 3, 0.05)\n",
        "    Y = np.arange(-4, 2, 0.05)\n",
        "    X, Y = np.meshgrid(X, Y)\n",
        "    Z = 1.5 - np.exp(-X ** (2) - Y ** (2)) - 0.5 * np.exp(-(X - 1) ** (2) - (Y + 2) ** (2))\n",
        "    plt.figure()\n",
        "    plt.contour(X, Y, Z, 10)\n",
        "    cmaps = [[ii / len(trace), 0, 0] for ii in range(len(trace))]\n",
        "    plt.scatter([x[0] for x in trace], [x[1] for x in trace], c=cmaps)\n",
        "    plt.show()\n",
        "\n",
        "  def run(self):\n",
        "    pass"
      ]
    },
    {
      "cell_type": "code",
      "execution_count": 18,
      "metadata": {},
      "outputs": [
        {
          "name": "stdout",
          "output_type": "stream",
          "text": [
            "\u001b[32m.\u001b[0m"
          ]
        },
        {
          "name": "stdout",
          "output_type": "stream",
          "text": [
            "\u001b[32m.\u001b[0m\u001b[32m.\u001b[0m\u001b[32m.\u001b[0m\u001b[32m.\u001b[0m\u001b[32m.\u001b[0m\u001b[32m                                                                                       [100%]\u001b[0m\n",
            "\u001b[32m\u001b[32m\u001b[1m6 passed\u001b[0m\u001b[32m in 0.02s\u001b[0m\u001b[0m\n"
          ]
        },
        {
          "data": {
            "text/plain": [
              "<ExitCode.OK: 0>"
            ]
          },
          "execution_count": 18,
          "metadata": {},
          "output_type": "execute_result"
        }
      ],
      "source": [
        "def test_eval_objective_func():\n",
        "    ga = GeneticAlgorithm(8, 2, lambda arr: arr[0] + arr[1], 15)\n",
        "    c = Chromosome(length=8, array=[1,1,1,1, 0,1,0,1]) # 15 + 5 = 20\n",
        "    assert ga.eval_objective_func(c) == 20\n",
        "\n",
        "def test_eval_objective_func2():\n",
        "    ga = GeneticAlgorithm(9, 3, lambda arr: arr[0] * arr[1] + arr[2], 7)\n",
        "    c = Chromosome(length=9, array=[1, 0, 1, 1, 1, 0, 0, 0, 1]) # 5 * 6 + 1 = 31\n",
        "    assert ga.eval_objective_func(c) == 31\n",
        "\n",
        "\n",
        "\n",
        "\n",
        "ipytest.run()"
      ]
    }
  ],
  "metadata": {
    "colab": {
      "provenance": []
    },
    "kernel_info": {
      "name": "python"
    },
    "kernelspec": {
      "display_name": "Python 3",
      "language": "python",
      "name": "python3"
    },
    "language_info": {
      "codemirror_mode": {
        "name": "ipython",
        "version": 3
      },
      "file_extension": ".py",
      "mimetype": "text/x-python",
      "name": "python",
      "nbconvert_exporter": "python",
      "pygments_lexer": "ipython3",
      "version": "3.11.9"
    },
    "nteract": {
      "version": "nteract-front-end@1.0.0"
    }
  },
  "nbformat": 4,
  "nbformat_minor": 0
}
