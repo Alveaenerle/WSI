{
 "cells": [
  {
   "cell_type": "markdown",
   "metadata": {
    "id": "cpar5LziY_-0"
   },
   "source": [
    "#Zadanie 4 (7 pkt)\n",
    "Celem zadania jest zaimplementowanie algorytmu drzewa decyzyjnego ID3 dla zadania klasyfikacji. Trening i test należy przeprowadzić dla zbioru Iris. Proszę przeprowadzić eksperymenty najpierw dla DOKŁADNIE takiego podziału zbioru testowego i treningowego jak umieszczony poniżej. W dalszej części należy przeprowadzić analizę działania drzewa dla różnych wartości parametrów. Proszę korzystać z przygotowanego szkieletu programu, oczywiście można go modyfikować według potrzeb. Wszelkie elementy szkieletu zostaną wyjaśnione na zajęciach.\n",
    "\n",
    "* Implementacja funkcji entropii - **0.5 pkt**\n",
    "* Implementacja funkcji entropii zbioru - **0.5 pkt**\n",
    "* Implementacja funkcji information gain - **0.5 pkt**\n",
    "* Zbudowanie poprawnie działającego drzewa klasyfikacyjnego i przetestowanie go na wspomnianym wcześniej zbiorze testowym. Jeśli w liściu występuje kilka różnych klas, decyzją jest klasa większościowa. Policzenie accuracy i wypisanie parami klasy rzeczywistej i predykcji. - **4 pkt**\n",
    "* Przeprowadzenie eksperymentów dla różnych głębokości drzew i podziałów zbioru treningowego i testowego (zmiana wartości argumentu test_size oraz usunięcie random_state). W tym przypadku dla każdego eksperymentu należy wykonać kilka uruchomień programu i wypisać dla każdego uruchomienia accuracy. - **1.5 pkt**\n"
   ]
  },
  {
   "cell_type": "code",
   "execution_count": 4,
   "metadata": {
    "id": "XNc-O3npA-J9"
   },
   "outputs": [
    {
     "ename": "ModuleNotFoundError",
     "evalue": "No module named 'sklearn'",
     "output_type": "error",
     "traceback": [
      "\u001b[0;31m---------------------------------------------------------------------------\u001b[0m",
      "\u001b[0;31mModuleNotFoundError\u001b[0m                       Traceback (most recent call last)",
      "Cell \u001b[0;32mIn[4], line 1\u001b[0m\n\u001b[0;32m----> 1\u001b[0m \u001b[38;5;28;01mfrom\u001b[39;00m \u001b[38;5;21;01msklearn\u001b[39;00m\u001b[38;5;21;01m.\u001b[39;00m\u001b[38;5;21;01mdatasets\u001b[39;00m \u001b[38;5;28;01mimport\u001b[39;00m load_iris\n\u001b[1;32m      2\u001b[0m \u001b[38;5;28;01mfrom\u001b[39;00m \u001b[38;5;21;01msklearn\u001b[39;00m\u001b[38;5;21;01m.\u001b[39;00m\u001b[38;5;21;01mmodel_selection\u001b[39;00m \u001b[38;5;28;01mimport\u001b[39;00m train_test_split\n\u001b[1;32m      3\u001b[0m \u001b[38;5;28;01mimport\u001b[39;00m \u001b[38;5;21;01mmath\u001b[39;00m\n",
      "\u001b[0;31mModuleNotFoundError\u001b[0m: No module named 'sklearn'"
     ]
    }
   ],
   "source": [
    "from sklearn.datasets import load_iris\n",
    "from sklearn.model_selection import train_test_split\n",
    "import math\n",
    "from collections import Counter\n",
    "import numpy as np\n",
    "\n",
    "iris = load_iris()\n",
    "\n",
    "x = iris.data\n",
    "y = iris.target\n",
    "\n",
    "x_train, x_test, y_train, y_test = train_test_split(x, y, test_size=0.1, random_state=123)"
   ]
  },
  {
   "cell_type": "code",
   "execution_count": null,
   "metadata": {
    "id": "fBh2tfQ44u5k"
   },
   "outputs": [],
   "source": [
    "def entropy_func(class_count, num_samples):\n",
    "    p = class_count / num_samples\n",
    "    return -(p * np.log(p))\n",
    "\n",
    "\n",
    "class Group:\n",
    "    def __init__(self, group_classes):\n",
    "        self.group_classes = group_classes\n",
    "        self.entropy = self.group_entropy()\n",
    "\n",
    "    def __len__(self):\n",
    "        return self.group_classes.size\n",
    "\n",
    "    def group_entropy(self):\n",
    "        count_samples = Counter(self.group_classes)\n",
    "        num_samples = len(self)\n",
    "\n",
    "        sum = 0\n",
    "        for _, amt in count_samples:\n",
    "            sum += entropy_func(amt, num_samples)\n",
    "\n",
    "        return sum\n",
    "\n",
    "\n",
    "class Node:\n",
    "    def __init__(self, split_feature, split_val, depth=None, child_node_a=None, child_node_b=None, val=None):\n",
    "        self.split_feature = split_feature # Index of the attribute in the data array\n",
    "        self.split_val = split_val\n",
    "        self.depth = depth\n",
    "        self.child_node_a = child_node_a # Left branch\n",
    "        self.child_node_b = child_node_b # Right branch\n",
    "        self.val = val\n",
    "\n",
    "    def predict(self, data):\n",
    "        # Each node must have 2 childs\n",
    "        if self.child_node_a is None and self.child_node_b is None:\n",
    "            return self.val\n",
    "\n",
    "        return self.child_node_a.predict(data) if data[self.split_feature] < self.split_val else self.child_node_b.predict(data)\n",
    "\n",
    "\n",
    "class DecisionTreeClassifier():\n",
    "    def __init__(self, max_depth):\n",
    "        self.depth = 0\n",
    "        self.max_depth = max_depth\n",
    "        self.tree = None\n",
    "\n",
    "    @staticmethod\n",
    "    def get_split_entropy(group_a: Group, group_b: Group):\n",
    "        size = len(group_a) + len(group_b)\n",
    "        return (len(group_a) / size) * group_a.entropy + (len(group_b) / size) * group_b.entropy\n",
    "\n",
    "    def get_information_gain(self, parent_group: Group, child_group_a: Group, child_group_b: Group):\n",
    "        return parent_group.entropy - DecisionTreeClassifier.get_split_entropy(child_group_a, child_group_b) \n",
    "\n",
    "    def get_best_feature_split(self, feature_values, classes):\n",
    "        max_index = 0\n",
    "        max_gain = float(\"-inf\")\n",
    "        for i in range(len(feature_values)):\n",
    "            feature_value = feature_values[i]\n",
    "            group_a = Group([class_obj[i] < feature_value for class_obj in classes])\n",
    "            group_b = Group([class_obj[i] >= feature_value for class_obj in classes])\n",
    "            group_parent = Group(classes)\n",
    "            inf_gain = self.get_information_gain(group_parent, group_a, group_b)\n",
    "            if inf_gain > max_gain:\n",
    "                max_index = i\n",
    "                max_gain = inf_gain\n",
    "        return max_index, max_gain\n",
    "\n",
    "\n",
    "    def get_best_split(self, data, classes):\n",
    "        pass\n",
    "\n",
    "    def build_tree(self, data, classes, depth=0):\n",
    "        pass\n",
    "\n",
    "    def predict(self, data):\n",
    "        return self.tree.predict(data)"
   ]
  },
  {
   "cell_type": "code",
   "execution_count": null,
   "metadata": {
    "id": "U033RY1_YS8x"
   },
   "outputs": [
    {
     "ename": "NameError",
     "evalue": "name 'DecisionTreeClassifier' is not defined",
     "output_type": "error",
     "traceback": [
      "\u001b[0;31m---------------------------------------------------------------------------\u001b[0m",
      "\u001b[0;31mNameError\u001b[0m                                 Traceback (most recent call last)",
      "Cell \u001b[0;32mIn[1], line 1\u001b[0m\n\u001b[0;32m----> 1\u001b[0m dc \u001b[38;5;241m=\u001b[39m \u001b[43mDecisionTreeClassifier\u001b[49m(\u001b[38;5;241m3\u001b[39m)\n\u001b[1;32m      2\u001b[0m dc\u001b[38;5;241m.\u001b[39mbuild_tree(x_train, y_train)\n\u001b[1;32m      3\u001b[0m \u001b[38;5;28mprint\u001b[39m(x_train)\n",
      "\u001b[0;31mNameError\u001b[0m: name 'DecisionTreeClassifier' is not defined"
     ]
    }
   ],
   "source": [
    "dc = DecisionTreeClassifier(3)\n",
    "dc.build_tree(x_train, y_train)\n",
    "print(x_train)\n",
    "print(y_train)\n",
    "for sample, gt in zip(x_test, y_test):\n",
    "    prediction = dc.predict(sample)"
   ]
  }
 ],
 "metadata": {
  "colab": {
   "provenance": []
  },
  "kernel_info": {
   "name": "python"
  },
  "kernelspec": {
   "display_name": "base",
   "language": "python",
   "name": "python3"
  },
  "language_info": {
   "codemirror_mode": {
    "name": "ipython",
    "version": 3
   },
   "file_extension": ".py",
   "mimetype": "text/x-python",
   "name": "python",
   "nbconvert_exporter": "python",
   "pygments_lexer": "ipython3",
   "version": "3.9.6"
  },
  "nteract": {
   "version": "nteract-front-end@1.0.0"
  }
 },
 "nbformat": 4,
 "nbformat_minor": 0
}
