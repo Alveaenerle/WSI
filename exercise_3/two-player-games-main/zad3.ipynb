{
 "cells": [
  {
   "cell_type": "markdown",
   "metadata": {
    "collapsed": false
   },
   "source": [
    "# Zadanie 3 (7 punktów)\n",
    "\n",
    "Celem ćwiczenia jest imlementacja metody [Minimax z obcinaniem alpha-beta](https://en.wikipedia.org/wiki/Alpha%E2%80%93beta_pruning) do gry  Czwórki (ang. Connect Four).\n",
    "\n",
    "W trakcie ćwiczenia można skorzystać z reposytorium z implementacją gry [Connect Four udostępnionym przez Jakuba Łyskawę](https://github.com/lychanl/two-player-games). Ewentualnie, można zaimplementować samemu grę Connect Four.\n",
    "\n",
    "Należy zaimplementować co najmniej dwie heurystyki do ewaluacji planszy.  \n",
    "\n",
    "Implementację algorytmu Minimax (klasa `MiniMaxSolver`) należy przetestować używając różną głębokość przeszukiwania symulując grę \"komputer vs komputer\". W eksperymentach należy również zademonstrować różnice pomiędzy heurystykami.  \n",
    "\n",
    "W ramach zadania można zaimplementować dowolną liczbę dodatkowych metod w klasie `MiniMaxSolver`.\n",
    "\n",
    "Punktacja:\n",
    "\n",
    "- Działająca metoda Minimax oraz heurystyki do ewaluacji planszy. - **2 pkt**\n",
    "- Działająca metoda Minimax z obcinaniem alpha-beta. - **1.5 pkt**\n",
    "- Analiza jakości solvera w zależności od głębokości przeszukiwania - wykresy. - **2pkt**\n",
    "    - należy zaimplementować w tym celu prostą wizualizację rozgrywki dwóch agentów\n",
    "- Jakość kodu. - **1.5pkt**"
   ]
  },
  {
   "cell_type": "markdown",
   "metadata": {
    "collapsed": false
   },
   "source": [
    "Aby importowanie elementów z poniższej komórki działało należy umieścić tego notebooka w tym samym folderze co paczkę `two_player_games`:\n",
    "```\n",
    "├── LICENSE\n",
    "├── README.md\n",
    "├── minimax.ipynb # <<< HERE\n",
    "├── test\n",
    "│   ├── __init__.py\n",
    "│   ├── test_connect_four.py\n",
    "│   ├── test_dots_and_boxes.py\n",
    "│   └── test_pick.py\n",
    "└── two_player_games\n",
    "    ├── __init__.py\n",
    "    ├── games\n",
    "    │   ├── connect_four.py\n",
    "    │   └── dots_and_boxes.py\n",
    "    ├── move.py\n",
    "    ├── player.py\n",
    "    └── state.py\n",
    "```"
   ]
  },
  {
   "cell_type": "code",
   "execution_count": 319,
   "metadata": {
    "collapsed": true
   },
   "outputs": [],
   "source": [
    "from typing import Tuple, List, Callable\n",
    "\n",
    "from two_player_games.player import Player\n",
    "from two_player_games.games.connect_four import ConnectFour, ConnectFourMove, ConnectFourState"
   ]
  },
  {
   "cell_type": "markdown",
   "metadata": {
    "collapsed": false
   },
   "source": [
    "Wielkość planszy"
   ]
  },
  {
   "cell_type": "code",
   "execution_count": 320,
   "metadata": {
    "collapsed": false
   },
   "outputs": [],
   "source": [
    "ROW_COUNT = 6\n",
    "COLUMN_COUNT = 7"
   ]
  },
  {
   "cell_type": "code",
   "execution_count": 321,
   "metadata": {
    "collapsed": false
   },
   "outputs": [],
   "source": [
    "class MinMaxSolver:\n",
    "\n",
    "    def __init__(self, game: ConnectFour, heuristic_function: Callable[[ConnectFourState, Player, Player], float]):\n",
    "        self.game = game\n",
    "        self.heuristic = heuristic_function\n",
    "\n",
    "    def get_best_move(self, depth)->int:\n",
    "        is_maximizing = self.game.first_player.char == self.game.get_current_player().char\n",
    "        result = self.minimax(depth, float(\"-inf\"), float(\"inf\"), is_maximizing, self.game.state)\n",
    "        return result[0]\n",
    "\n",
    "    def is_valid_move(self, col_index:int)->bool:\n",
    "        pass\n",
    "\n",
    "    def eval_position(self, position: ConnectFourState) -> float:\n",
    "        return self.heuristic(position, self.game.first_player, self.game.second_player)\n",
    "\n",
    "    def minimax(self, depth, alpha:float, beta:float, is_maximizing_player:bool, position: ConnectFourState)-> Tuple[int, float]:\n",
    "        \"\"\"Returns column index and score\"\"\"\n",
    "        if depth == 0 or position.is_finished():\n",
    "            return (None, self.eval_position(position))\n",
    "\n",
    "        column = 0\n",
    "        if is_maximizing_player:\n",
    "            for child in position.get_moves():\n",
    "                new_position = position.make_move(child)\n",
    "                eval = self.minimax(depth - 1, alpha, beta, False, new_position)\n",
    "                if eval[0] is None:\n",
    "                    eval = (child.column, eval[1])\n",
    "                if eval[1] > alpha:\n",
    "                    alpha = eval[1]\n",
    "                    column = eval[0]\n",
    "                if alpha >= beta:\n",
    "                    break\n",
    "            return (column, alpha)\n",
    "        else:\n",
    "            for child in position.get_moves():\n",
    "                new_position = position.make_move(child)\n",
    "                eval = self.minimax(depth - 1, alpha, beta, True, new_position)\n",
    "                if eval[0] is None:\n",
    "                    eval = (child.column, eval[1])\n",
    "                if eval[1] < beta:\n",
    "                    beta = eval[1]\n",
    "                    column = eval[0]\n",
    "                if alpha >= beta:\n",
    "                    break\n",
    "            return (column, beta)\n"
   ]
  },
  {
   "cell_type": "code",
   "execution_count": 322,
   "metadata": {},
   "outputs": [],
   "source": [
    "from typing import Optional\n",
    "\n",
    "def first_heuristic(state: ConnectFourState, max_player:Player, min_player:Player):\n",
    "\n",
    "    def score_line(line, player: Player) -> int:\n",
    "        \"\"\"Scores a single line based on the player's streaks.\"\"\"\n",
    "        line = list(map(lambda x: x.char if x is not None else None, line))\n",
    "        score = 0\n",
    "        streak_count = line.count(player.char)\n",
    "        empty_count = line.count(None)\n",
    "\n",
    "        if streak_count == 4:  # Winning streak\n",
    "            score += 10000000\n",
    "        elif streak_count == 3 and empty_count == 1:  # Potential winning move\n",
    "            score += 100000\n",
    "        elif streak_count == 2 and empty_count == 2:  # Building streak\n",
    "            score += 1000\n",
    "\n",
    "        return score\n",
    "\n",
    "    fields = state.fields\n",
    "\n",
    "    lines = []\n",
    "    # Vertical\n",
    "    for column_id in range(COLUMN_COUNT):  # verticals\n",
    "        for start_row_id in range(ROW_COUNT - 3):\n",
    "            lines.append([fields[column_id][start_row_id + i] for i in range(4)])\n",
    "\n",
    "    # Horizontal\n",
    "    for start_column_id in range(COLUMN_COUNT - 3):  # horizontals\n",
    "        for row_id in range(ROW_COUNT):\n",
    "            lines.append([fields[start_column_id + i][row_id] for i in range(4)])\n",
    "\n",
    "\n",
    "    # Diagonal\n",
    "    for start_column_id in range(COLUMN_COUNT - 3):  # diagonals\n",
    "        for start_row_id in range(ROW_COUNT - 3):\n",
    "            lines.append([fields[start_column_id + i][start_row_id + i] for i in range(4)])\n",
    "            lines.append([fields[start_column_id - i + 3][start_row_id + i] for i in range(4)])\n",
    "\n",
    "    result = 0\n",
    "    for line in lines:\n",
    "        result += score_line(line, max_player)\n",
    "        result -= score_line(line, min_player)\n",
    "\n",
    "    return result"
   ]
  },
  {
   "cell_type": "markdown",
   "metadata": {
    "collapsed": false
   },
   "source": [
    "Rozgrywka"
   ]
  },
  {
   "cell_type": "code",
   "execution_count": 323,
   "metadata": {
    "collapsed": false
   },
   "outputs": [
    {
     "name": "stdout",
     "output_type": "stream",
     "text": [
      "Current player: a\n",
      "[ ][ ][ ][ ][ ][ ][ ]\n",
      "[ ][ ][ ][ ][ ][ ][ ]\n",
      "[ ][ ][ ][ ][ ][ ][ ]\n",
      "[ ][ ][ ][ ][ ][ ][ ]\n",
      "[ ][ ][ ][ ][ ][ ][ ]\n",
      "[ ][ ][ ][ ][ ][ ][ ]\n",
      "Current player: b\n",
      "[ ][ ][ ][ ][ ][ ][ ]\n",
      "[ ][ ][ ][ ][ ][ ][ ]\n",
      "[ ][ ][ ][ ][ ][ ][ ]\n",
      "[ ][ ][ ][ ][ ][ ][ ]\n",
      "[ ][ ][ ][ ][ ][ ][ ]\n",
      "[ ][ ][a][ ][ ][ ][ ]\n",
      "Current player: a\n",
      "[ ][ ][ ][ ][ ][ ][ ]\n",
      "[ ][ ][ ][ ][ ][ ][ ]\n",
      "[ ][ ][ ][ ][ ][ ][ ]\n",
      "[ ][ ][ ][ ][ ][ ][ ]\n",
      "[ ][ ][ ][ ][ ][ ][ ]\n",
      "[b][ ][a][ ][ ][ ][ ]\n",
      "Current player: b\n",
      "[ ][ ][ ][ ][ ][ ][ ]\n",
      "[ ][ ][ ][ ][ ][ ][ ]\n",
      "[ ][ ][ ][ ][ ][ ][ ]\n",
      "[ ][ ][ ][ ][ ][ ][ ]\n",
      "[ ][ ][ ][ ][ ][ ][ ]\n",
      "[b][ ][a][ ][ ][a][ ]\n",
      "Current player: a\n",
      "[ ][ ][ ][ ][ ][ ][ ]\n",
      "[ ][ ][ ][ ][ ][ ][ ]\n",
      "[ ][ ][ ][ ][ ][ ][ ]\n",
      "[ ][ ][ ][ ][ ][ ][ ]\n",
      "[b][ ][ ][ ][ ][ ][ ]\n",
      "[b][ ][a][ ][ ][a][ ]\n",
      "Current player: b\n",
      "[ ][ ][ ][ ][ ][ ][ ]\n",
      "[ ][ ][ ][ ][ ][ ][ ]\n",
      "[ ][ ][ ][ ][ ][ ][ ]\n",
      "[ ][ ][ ][ ][ ][ ][ ]\n",
      "[b][ ][ ][ ][ ][ ][ ]\n",
      "[b][ ][a][ ][a][a][ ]\n",
      "Current player: a\n",
      "[ ][ ][ ][ ][ ][ ][ ]\n",
      "[ ][ ][ ][ ][ ][ ][ ]\n",
      "[ ][ ][ ][ ][ ][ ][ ]\n",
      "[ ][ ][ ][ ][ ][ ][ ]\n",
      "[b][ ][b][ ][ ][ ][ ]\n",
      "[b][ ][a][ ][a][a][ ]\n",
      "Current player: b\n",
      "[ ][ ][ ][ ][ ][ ][ ]\n",
      "[ ][ ][ ][ ][ ][ ][ ]\n",
      "[ ][ ][ ][ ][ ][ ][ ]\n",
      "[ ][ ][ ][ ][ ][ ][ ]\n",
      "[b][ ][b][ ][ ][ ][ ]\n",
      "[b][ ][a][a][a][a][ ]\n"
     ]
    }
   ],
   "source": [
    "p1 = Player(\"a\")\n",
    "p2 = Player(\"b\")\n",
    "game = ConnectFour(size=(COLUMN_COUNT, ROW_COUNT), first_player=p1, second_player=p2)\n",
    "minimax = MinMaxSolver(game, first_heuristic)\n",
    "while(not game.is_finished()):\n",
    "    print(game)\n",
    "    game.make_move(ConnectFourMove(minimax.get_best_move(7)))\n",
    "print(game)\n",
    "\n"
   ]
  },
  {
   "cell_type": "code",
   "execution_count": 324,
   "metadata": {},
   "outputs": [
    {
     "name": "stdout",
     "output_type": "stream",
     "text": [
      "False\n"
     ]
    }
   ],
   "source": [
    "def first_heuristic(state: ConnectFourState, max_player:Player, min_player:Player):\n",
    "\n",
    "    def score_line(line: List[Optional[Player]], player: Player) -> int:\n",
    "        \"\"\"Scores a single line based on the player's streaks.\"\"\"\n",
    "\n",
    "        score = 0\n",
    "        streak_count = line.count(player.char)\n",
    "        empty_count = line.count(None)\n",
    "\n",
    "        if streak_count == 4:  # Winning streak\n",
    "            score += 1000000\n",
    "        elif streak_count == 3 and empty_count == 1:  # Potential winning move\n",
    "            score += 10000\n",
    "        elif streak_count == 2 and empty_count == 2:  # Building streak\n",
    "            score += 5\n",
    "        return score\n",
    "\n",
    "    fields = state.fields\n",
    "\n",
    "    lines = []\n",
    "    # Vertical\n",
    "    for column_id in range(COLUMN_COUNT):  # verticals\n",
    "        for start_row_id in range(ROW_COUNT - 3):\n",
    "            lines.append(fields[column_id][start_row_id:(start_row_id + 4)])\n",
    "\n",
    "    # Horizontal\n",
    "    for start_column_id in range(COLUMN_COUNT - 3):  # horizontals\n",
    "        for row_id in range(ROW_COUNT):\n",
    "            lines.append([fields[start_column_id + i][row_id] for i in range(4)])\n",
    "\n",
    "\n",
    "    # Diagonal\n",
    "    for start_column_id in range(COLUMN_COUNT - 3):  # diagonals\n",
    "        for start_row_id in range(ROW_COUNT - 3):\n",
    "            lines.append([fields[start_column_id + i][start_row_id + i] for i in range(4)])\n",
    "            lines.append([fields[start_column_id - i + 3][start_row_id + i] for i in range(4)])\n",
    "\n",
    "    result = 0\n",
    "    for line in lines:\n",
    "        result += score_line(line, max_player)\n",
    "        result -= score_line(line, min_player)\n",
    "\n",
    "    return result\n",
    "\n",
    "pola = [\n",
    "    [None, None, None, None, None, None],  # Column 0\n",
    "    [None, None, None, None, '1', None],  # Column 1\n",
    "    [None, None, None, '2', '1', '1'],    # Column 2\n",
    "    [None, None, None, '1', '2', '2'],    # Column 3\n",
    "    [None, None, '2', '1', '2', '1'],  # Column 4\n",
    "    [None, None, None, None, None, '1'], # Column 5\n",
    "    [None, None, None, None, None, None], # Column 6\n",
    "]\n",
    "\n",
    "max_player = Player('1')\n",
    "min_player = Player('2')\n",
    "test = Player('1')\n",
    "print(test == max_player)\n",
    "state = ConnectFourState((7, 6), max_player, min_player, pola)\n",
    "# Evaluate heuristic\n",
    "score = first_heuristic(state, max_player, min_player)\n",
    "# print(f\"Heuristic Score: {score}\")"
   ]
  }
 ],
 "metadata": {
  "kernelspec": {
   "display_name": "base",
   "language": "python",
   "name": "python3"
  },
  "language_info": {
   "codemirror_mode": {
    "name": "ipython",
    "version": 3
   },
   "file_extension": ".py",
   "mimetype": "text/x-python",
   "name": "python",
   "nbconvert_exporter": "python",
   "pygments_lexer": "ipython3",
   "version": "3.11.5"
  },
  "nteract": {
   "version": "nteract-front-end@1.0.0"
  }
 },
 "nbformat": 4,
 "nbformat_minor": 0
}
